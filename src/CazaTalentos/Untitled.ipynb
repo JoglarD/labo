{
 "cells": [
  {
   "cell_type": "code",
   "execution_count": 1,
   "id": "6cc578ff-dde4-456e-abf4-e4924c913b61",
   "metadata": {},
   "outputs": [
    {
     "name": "stdout",
     "output_type": "stream",
     "text": [
      "82 \t 69\n",
      "82 \t 77\n",
      "78 \t 64\n",
      "81 \t 79\n",
      "81 \t 72\n",
      "80 \t 69\n",
      "83 \t 77\n",
      "82 \t 64\n",
      "78 \t 70\n",
      "84 \t 64\n"
     ]
    }
   ],
   "source": [
    "import  numpy as np\n",
    "\n",
    "np.random.seed(102191)\n",
    "\n",
    "#calcula cuantos encestes logra un jugador con indice de enceste prob\n",
    "#que hace qyt tiros libres\n",
    "\n",
    "def ftirar(prob, qty):\n",
    "  return sum(np.random.rand(qty) < prob)\n",
    "\n",
    "\n",
    "\n",
    "#defino los jugadores\n",
    "mejor = 0.7\n",
    "peloton = np.array(range(501, 600)) / 1000\n",
    "jugadores = np.append(mejor, peloton)\n",
    "\n",
    "#veo que tiene el vector\n",
    "jugadores\n",
    "\n",
    "\n",
    "#vectorizo la funcion  ftirar\n",
    "vec_ftirar = np.vectorize(ftirar)\n",
    "\n",
    "for i in range(10):\n",
    "  vaciertos = vec_ftirar(jugadores, 100) #10 tiros libres cada jugador\n",
    "  mejor = np.argmax(vaciertos)\n",
    "  aciertos_torneo = vaciertos[mejor]\n",
    "  aciertos_segunda = vec_ftirar(jugadores[mejor], 100)\n",
    "  print(aciertos_torneo, \"\\t\", aciertos_segunda)\n",
    "\n",
    "\n"
   ]
  }
 ],
 "metadata": {
  "kernelspec": {
   "display_name": "Python 3 (ipykernel)",
   "language": "python",
   "name": "python3"
  },
  "language_info": {
   "codemirror_mode": {
    "name": "ipython",
    "version": 3
   },
   "file_extension": ".py",
   "mimetype": "text/x-python",
   "name": "python",
   "nbconvert_exporter": "python",
   "pygments_lexer": "ipython3",
   "version": "3.9.12"
  }
 },
 "nbformat": 4,
 "nbformat_minor": 5
}
