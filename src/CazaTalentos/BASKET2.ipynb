{
 "cells": [
  {
   "cell_type": "code",
   "execution_count": null,
   "id": "21e3c310-bc05-448b-a5b5-5246292e8228",
   "metadata": {},
   "outputs": [],
   "source": [
    "import  numpy as np\n",
    "\n",
    "np.random.seed(102191)\n",
    "\n",
    "#calcula cuantos encestes logra un jugador con indice de enceste prob\n",
    "#haciendo qyt tiros libres\n",
    "\n",
    "def ftirar(prob, qty):\n",
    "  return sum(np.random.rand(qty) < prob)\n",
    "\n",
    "\n",
    "\n",
    "#defino los jugadores\n",
    "mejor = 0.7\n",
    "peloton = np.array(range(501, 600)) / 1000\n",
    "jugadores = np.append(mejor, peloton)\n",
    "\n",
    "#veo que tiene el vector\n",
    "jugadores"
   ]
  },
  {
   "cell_type": "code",
   "execution_count": null,
   "id": "4dc6a302-cf17-470b-b98e-e67a92cb7cba",
   "metadata": {},
   "outputs": [],
   "source": [
    "#vectorizo la funcion  ftirar\n",
    "vec_ftirar = np.vectorize(ftirar)\n",
    "\n",
    "#hago que los 100 jugadores tiren 10 veces cada uno\n",
    "vec_ftirar(jugadores, 10)\n",
    "\n",
    "primero_ganador = 0\n",
    "\n",
    "for i in range(10000): #diez mil experimentos\n",
    "  vaciertos = vec_ftirar(jugadores, 10) #10 tiros libres cada jugador\n",
    "  mejor = np.argmax(vaciertos)\n",
    "  if mejor == 0:\n",
    "    primero_ganador += 1"
   ]
  },
  {
   "cell_type": "code",
   "execution_count": null,
   "id": "1d804363-800a-4a97-93af-d30e316f2e9c",
   "metadata": {},
   "outputs": [],
   "source": [
    "print(primero_ganador/10000)"
   ]
  }
 ],
 "metadata": {
  "kernelspec": {
   "display_name": "Python 3 (ipykernel)",
   "language": "python",
   "name": "python3"
  },
  "language_info": {
   "codemirror_mode": {
    "name": "ipython",
    "version": 3
   },
   "file_extension": ".py",
   "mimetype": "text/x-python",
   "name": "python",
   "nbconvert_exporter": "python",
   "pygments_lexer": "ipython3",
   "version": "3.9.12"
  }
 },
 "nbformat": 4,
 "nbformat_minor": 5
}
